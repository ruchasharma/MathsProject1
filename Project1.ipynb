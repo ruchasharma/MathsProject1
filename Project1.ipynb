{
 "cells": [
  {
   "cell_type": "code",
   "execution_count": 1,
   "id": "f12e8253",
   "metadata": {},
   "outputs": [
    {
     "name": "stderr",
     "output_type": "stream",
     "text": [
      "c:\\users\\sharm\\lib\\site-packages\\tqdm\\auto.py:22: TqdmWarning: IProgress not found. Please update jupyter and ipywidgets. See https://ipywidgets.readthedocs.io/en/stable/user_install.html\n",
      "  from .autonotebook import tqdm as notebook_tqdm\n",
      "[nltk_data] Downloading package stopwords to\n",
      "[nltk_data]     C:\\Users\\sharm\\AppData\\Roaming\\nltk_data...\n",
      "[nltk_data]   Package stopwords is already up-to-date!\n"
     ]
    }
   ],
   "source": [
    "## Importing the necessary libraries\n",
    "\n",
    "import pandas as pd\n",
    "import numpy as np\n",
    "from keras.preprocessing.text import Tokenizer\n",
    "from tensorflow.keras.preprocessing.sequence import pad_sequences\n",
    "from keras.models import Sequential\n",
    "from keras.layers import Dense, Embedding, Flatten\n",
    "from keras.callbacks import EarlyStopping, ModelCheckpoint\n",
    "import tensorflow as tf\n",
    "import tensorflow_datasets as tfds\n",
    "import re\n",
    "from nltk.stem import PorterStemmer\n",
    "import pandas as pd\n",
    "import numpy as np\n",
    "import tensorflow as tf\n",
    "import nltk\n",
    "import re\n",
    "nltk.download('stopwords')\n",
    "from nltk.corpus import stopwords\n",
    "import matplotlib.pyplot as plt\n",
    "import seaborn as sns\n",
    "from wordcloud import wordcloud\n",
    "from sklearn.model_selection import train_test_split\n",
    "from keras.preprocessing.text import Tokenizer\n",
    "from tensorflow.keras.preprocessing.sequence import pad_sequences\n",
    "from numpy import zeros\n",
    "from keras.layers import Embedding\n",
    "from keras.layers import Flatten\n",
    "from keras.layers.core import Activation, Dropout, Dense\n",
    "from keras.layers import Conv1D\n",
    "from keras.layers import GlobalMaxPooling1D\n",
    "from tensorflow.keras.models import Model, load_model\n",
    "from tensorflow.keras.layers import  LSTM, BatchNormalization, Bidirectional\n",
    "from tensorflow.keras.regularizers import l2\n",
    "from keras import layers, models\n",
    "\n",
    "import tensorflow_datasets as tfds\n",
    "\n",
    "\n",
    "\n",
    "\n"
   ]
  },
  {
   "cell_type": "code",
   "execution_count": 2,
   "id": "bffdbf8c",
   "metadata": {},
   "outputs": [
    {
     "name": "stdout",
     "output_type": "stream",
     "text": [
      "<PrefetchDataset element_spec={'data': {'customer_id': TensorSpec(shape=(), dtype=tf.string, name=None), 'helpful_votes': TensorSpec(shape=(), dtype=tf.int32, name=None), 'marketplace': TensorSpec(shape=(), dtype=tf.string, name=None), 'product_category': TensorSpec(shape=(), dtype=tf.string, name=None), 'product_id': TensorSpec(shape=(), dtype=tf.string, name=None), 'product_parent': TensorSpec(shape=(), dtype=tf.string, name=None), 'product_title': TensorSpec(shape=(), dtype=tf.string, name=None), 'review_body': TensorSpec(shape=(), dtype=tf.string, name=None), 'review_date': TensorSpec(shape=(), dtype=tf.string, name=None), 'review_headline': TensorSpec(shape=(), dtype=tf.string, name=None), 'review_id': TensorSpec(shape=(), dtype=tf.string, name=None), 'star_rating': TensorSpec(shape=(), dtype=tf.int32, name=None), 'total_votes': TensorSpec(shape=(), dtype=tf.int32, name=None), 'verified_purchase': TensorSpec(shape=(), dtype=tf.int64, name=None), 'vine': TensorSpec(shape=(), dtype=tf.int64, name=None)}}>\n"
     ]
    }
   ],
   "source": [
    "## Load the dataset \n",
    "\n",
    "ds = tfds.load('amazon_us_reviews/Mobile_Electronics_v1_00', split='train', shuffle_files=True)\n",
    "assert isinstance(ds, tf.data.Dataset)\n",
    "print(ds)\n"
   ]
  },
  {
   "cell_type": "code",
   "execution_count": 3,
   "id": "f702f478",
   "metadata": {},
   "outputs": [],
   "source": [
    "## converting dataset into pandas dataframe\n",
    "\n",
    "df = tfds.as_dataframe(ds)\n"
   ]
  },
  {
   "cell_type": "markdown",
   "id": "24a3f914",
   "metadata": {},
   "source": [
    "# EDA"
   ]
  },
  {
   "cell_type": "code",
   "execution_count": 4,
   "id": "66fb5cea",
   "metadata": {},
   "outputs": [
    {
     "data": {
      "text/html": [
       "<div>\n",
       "<style scoped>\n",
       "    .dataframe tbody tr th:only-of-type {\n",
       "        vertical-align: middle;\n",
       "    }\n",
       "\n",
       "    .dataframe tbody tr th {\n",
       "        vertical-align: top;\n",
       "    }\n",
       "\n",
       "    .dataframe thead th {\n",
       "        text-align: right;\n",
       "    }\n",
       "</style>\n",
       "<table border=\"1\" class=\"dataframe\">\n",
       "  <thead>\n",
       "    <tr style=\"text-align: right;\">\n",
       "      <th></th>\n",
       "      <th>data/customer_id</th>\n",
       "      <th>data/helpful_votes</th>\n",
       "      <th>data/marketplace</th>\n",
       "      <th>data/product_category</th>\n",
       "      <th>data/product_id</th>\n",
       "      <th>data/product_parent</th>\n",
       "      <th>data/product_title</th>\n",
       "      <th>data/review_body</th>\n",
       "      <th>data/review_date</th>\n",
       "      <th>data/review_headline</th>\n",
       "      <th>data/review_id</th>\n",
       "      <th>data/star_rating</th>\n",
       "      <th>data/total_votes</th>\n",
       "      <th>data/verified_purchase</th>\n",
       "      <th>data/vine</th>\n",
       "    </tr>\n",
       "  </thead>\n",
       "  <tbody>\n",
       "    <tr>\n",
       "      <th>0</th>\n",
       "      <td>b'20980074'</td>\n",
       "      <td>0</td>\n",
       "      <td>b'US'</td>\n",
       "      <td>b'Mobile_Electronics'</td>\n",
       "      <td>b'B00D1847NE'</td>\n",
       "      <td>b'274617424'</td>\n",
       "      <td>b'Teenage Mutant Ninja Turtles Boombox CD Play...</td>\n",
       "      <td>b'Does not work'</td>\n",
       "      <td>b'2015-01-09'</td>\n",
       "      <td>b'One Star'</td>\n",
       "      <td>b'R1OVS0D6SEXPW7'</td>\n",
       "      <td>1</td>\n",
       "      <td>0</td>\n",
       "      <td>0</td>\n",
       "      <td>1</td>\n",
       "    </tr>\n",
       "    <tr>\n",
       "      <th>1</th>\n",
       "      <td>b'779273'</td>\n",
       "      <td>0</td>\n",
       "      <td>b'US'</td>\n",
       "      <td>b'Mobile_Electronics'</td>\n",
       "      <td>b'B00KMO6DYG'</td>\n",
       "      <td>b'397452138'</td>\n",
       "      <td>b'4 Gauge Amp Kit Amplifier Install Wiring Com...</td>\n",
       "      <td>b'This is a great wiring kit i used it to set ...</td>\n",
       "      <td>b'2015-08-06'</td>\n",
       "      <td>b'Great kit'</td>\n",
       "      <td>b'R9VSD0ET8FERB'</td>\n",
       "      <td>4</td>\n",
       "      <td>0</td>\n",
       "      <td>0</td>\n",
       "      <td>1</td>\n",
       "    </tr>\n",
       "    <tr>\n",
       "      <th>2</th>\n",
       "      <td>b'15410531'</td>\n",
       "      <td>0</td>\n",
       "      <td>b'US'</td>\n",
       "      <td>b'Mobile_Electronics'</td>\n",
       "      <td>b'B000GWLL0K'</td>\n",
       "      <td>b'948304826'</td>\n",
       "      <td>b'Travel Wall Charger fits Creative Zen Vision...</td>\n",
       "      <td>b'It works great so much faster than USB charg...</td>\n",
       "      <td>b'2007-03-15'</td>\n",
       "      <td>b'A/C Charger for Creative Zen Vision M'</td>\n",
       "      <td>b'R3ISXCZHWLJLBH'</td>\n",
       "      <td>5</td>\n",
       "      <td>0</td>\n",
       "      <td>0</td>\n",
       "      <td>1</td>\n",
       "    </tr>\n",
       "    <tr>\n",
       "      <th>3</th>\n",
       "      <td>b'27389005'</td>\n",
       "      <td>0</td>\n",
       "      <td>b'US'</td>\n",
       "      <td>b'Mobile_Electronics'</td>\n",
       "      <td>b'B008L3JE6Y'</td>\n",
       "      <td>b'466340015'</td>\n",
       "      <td>b'High Grade Robust 360\\xc2\\xb0 Adjustable Car...</td>\n",
       "      <td>b'This product was purchased to hold a monitor...</td>\n",
       "      <td>b'2013-07-30'</td>\n",
       "      <td>b'camera stand'</td>\n",
       "      <td>b'R1TWVUDOFJSQAW'</td>\n",
       "      <td>5</td>\n",
       "      <td>0</td>\n",
       "      <td>0</td>\n",
       "      <td>1</td>\n",
       "    </tr>\n",
       "    <tr>\n",
       "      <th>4</th>\n",
       "      <td>b'2663569'</td>\n",
       "      <td>0</td>\n",
       "      <td>b'US'</td>\n",
       "      <td>b'Mobile_Electronics'</td>\n",
       "      <td>b'B00GHZS4SC'</td>\n",
       "      <td>b'350592810'</td>\n",
       "      <td>b'HDE Multifunctional Bluetooth FM Audio Car K...</td>\n",
       "      <td>b\"it works but it has really bad sound quality...</td>\n",
       "      <td>b'2014-12-31'</td>\n",
       "      <td>b'bad sound quality'</td>\n",
       "      <td>b'R2PEOEUR1LP0GH'</td>\n",
       "      <td>3</td>\n",
       "      <td>0</td>\n",
       "      <td>0</td>\n",
       "      <td>1</td>\n",
       "    </tr>\n",
       "  </tbody>\n",
       "</table>\n",
       "</div>"
      ],
      "text/plain": [
       "  data/customer_id  data/helpful_votes data/marketplace  \\\n",
       "0      b'20980074'                   0            b'US'   \n",
       "1        b'779273'                   0            b'US'   \n",
       "2      b'15410531'                   0            b'US'   \n",
       "3      b'27389005'                   0            b'US'   \n",
       "4       b'2663569'                   0            b'US'   \n",
       "\n",
       "   data/product_category data/product_id data/product_parent  \\\n",
       "0  b'Mobile_Electronics'   b'B00D1847NE'        b'274617424'   \n",
       "1  b'Mobile_Electronics'   b'B00KMO6DYG'        b'397452138'   \n",
       "2  b'Mobile_Electronics'   b'B000GWLL0K'        b'948304826'   \n",
       "3  b'Mobile_Electronics'   b'B008L3JE6Y'        b'466340015'   \n",
       "4  b'Mobile_Electronics'   b'B00GHZS4SC'        b'350592810'   \n",
       "\n",
       "                                  data/product_title  \\\n",
       "0  b'Teenage Mutant Ninja Turtles Boombox CD Play...   \n",
       "1  b'4 Gauge Amp Kit Amplifier Install Wiring Com...   \n",
       "2  b'Travel Wall Charger fits Creative Zen Vision...   \n",
       "3  b'High Grade Robust 360\\xc2\\xb0 Adjustable Car...   \n",
       "4  b'HDE Multifunctional Bluetooth FM Audio Car K...   \n",
       "\n",
       "                                    data/review_body data/review_date  \\\n",
       "0                                   b'Does not work'    b'2015-01-09'   \n",
       "1  b'This is a great wiring kit i used it to set ...    b'2015-08-06'   \n",
       "2  b'It works great so much faster than USB charg...    b'2007-03-15'   \n",
       "3  b'This product was purchased to hold a monitor...    b'2013-07-30'   \n",
       "4  b\"it works but it has really bad sound quality...    b'2014-12-31'   \n",
       "\n",
       "                       data/review_headline     data/review_id  \\\n",
       "0                               b'One Star'  b'R1OVS0D6SEXPW7'   \n",
       "1                              b'Great kit'   b'R9VSD0ET8FERB'   \n",
       "2  b'A/C Charger for Creative Zen Vision M'  b'R3ISXCZHWLJLBH'   \n",
       "3                           b'camera stand'  b'R1TWVUDOFJSQAW'   \n",
       "4                      b'bad sound quality'  b'R2PEOEUR1LP0GH'   \n",
       "\n",
       "   data/star_rating  data/total_votes  data/verified_purchase  data/vine  \n",
       "0                 1                 0                       0          1  \n",
       "1                 4                 0                       0          1  \n",
       "2                 5                 0                       0          1  \n",
       "3                 5                 0                       0          1  \n",
       "4                 3                 0                       0          1  "
      ]
     },
     "execution_count": 4,
     "metadata": {},
     "output_type": "execute_result"
    }
   ],
   "source": [
    "## Checking the dataframe\n",
    "\n",
    "df.head()\n"
   ]
  },
  {
   "cell_type": "code",
   "execution_count": 5,
   "id": "8f6925dd",
   "metadata": {},
   "outputs": [
    {
     "name": "stdout",
     "output_type": "stream",
     "text": [
      "<class 'tensorflow_datasets.core.as_dataframe.StyledDataFrame'>\n",
      "RangeIndex: 104975 entries, 0 to 104974\n",
      "Data columns (total 15 columns):\n",
      " #   Column                  Non-Null Count   Dtype \n",
      "---  ------                  --------------   ----- \n",
      " 0   data/customer_id        104975 non-null  object\n",
      " 1   data/helpful_votes      104975 non-null  int32 \n",
      " 2   data/marketplace        104975 non-null  object\n",
      " 3   data/product_category   104975 non-null  object\n",
      " 4   data/product_id         104975 non-null  object\n",
      " 5   data/product_parent     104975 non-null  object\n",
      " 6   data/product_title      104975 non-null  object\n",
      " 7   data/review_body        104975 non-null  object\n",
      " 8   data/review_date        104975 non-null  object\n",
      " 9   data/review_headline    104975 non-null  object\n",
      " 10  data/review_id          104975 non-null  object\n",
      " 11  data/star_rating        104975 non-null  int32 \n",
      " 12  data/total_votes        104975 non-null  int32 \n",
      " 13  data/verified_purchase  104975 non-null  int64 \n",
      " 14  data/vine               104975 non-null  int64 \n",
      "dtypes: int32(3), int64(2), object(10)\n",
      "memory usage: 10.8+ MB\n"
     ]
    }
   ],
   "source": [
    "## Analyzing the information\n",
    "\n",
    "df.info()\n"
   ]
  },
  {
   "cell_type": "code",
   "execution_count": 6,
   "id": "6f8efb1b",
   "metadata": {},
   "outputs": [
    {
     "data": {
      "text/plain": [
       "(104975, 15)"
      ]
     },
     "execution_count": 6,
     "metadata": {},
     "output_type": "execute_result"
    }
   ],
   "source": [
    "# Displaying the number of columns and instances\n",
    "\n",
    "df.shape\n"
   ]
  },
  {
   "cell_type": "code",
   "execution_count": 7,
   "id": "c1862919",
   "metadata": {},
   "outputs": [
    {
     "name": "stdout",
     "output_type": "stream",
     "text": [
      "-------Dataset --------\n",
      "5    52255\n",
      "4    18088\n",
      "1    17587\n",
      "3     9734\n",
      "2     7311\n",
      "Name: data/star_rating, dtype: int64\n",
      "-------------------------\n",
      "Train Max Sentence Length :2906\n"
     ]
    },
    {
     "data": {
      "text/html": [
       "<div>\n",
       "<style scoped>\n",
       "    .dataframe tbody tr th:only-of-type {\n",
       "        vertical-align: middle;\n",
       "    }\n",
       "\n",
       "    .dataframe tbody tr th {\n",
       "        vertical-align: top;\n",
       "    }\n",
       "\n",
       "    .dataframe thead th {\n",
       "        text-align: right;\n",
       "    }\n",
       "</style>\n",
       "<table border=\"1\" class=\"dataframe\">\n",
       "  <thead>\n",
       "    <tr style=\"text-align: right;\">\n",
       "      <th></th>\n",
       "      <th>data/customer_id</th>\n",
       "      <th>data/helpful_votes</th>\n",
       "      <th>data/marketplace</th>\n",
       "      <th>data/product_category</th>\n",
       "      <th>data/product_id</th>\n",
       "      <th>data/product_parent</th>\n",
       "      <th>data/product_title</th>\n",
       "      <th>data/review_body</th>\n",
       "      <th>data/review_date</th>\n",
       "      <th>data/review_headline</th>\n",
       "      <th>data/review_id</th>\n",
       "      <th>data/star_rating</th>\n",
       "      <th>data/total_votes</th>\n",
       "      <th>data/verified_purchase</th>\n",
       "      <th>data/vine</th>\n",
       "      <th>Sentiment</th>\n",
       "      <th>Num_words_text</th>\n",
       "    </tr>\n",
       "  </thead>\n",
       "  <tbody>\n",
       "    <tr>\n",
       "      <th>0</th>\n",
       "      <td>b'20980074'</td>\n",
       "      <td>0</td>\n",
       "      <td>b'US'</td>\n",
       "      <td>b'Mobile_Electronics'</td>\n",
       "      <td>b'B00D1847NE'</td>\n",
       "      <td>b'274617424'</td>\n",
       "      <td>b'Teenage Mutant Ninja Turtles Boombox CD Play...</td>\n",
       "      <td>b'Does not work'</td>\n",
       "      <td>b'2015-01-09'</td>\n",
       "      <td>b'One Star'</td>\n",
       "      <td>b'R1OVS0D6SEXPW7'</td>\n",
       "      <td>1</td>\n",
       "      <td>0</td>\n",
       "      <td>0</td>\n",
       "      <td>1</td>\n",
       "      <td>negative</td>\n",
       "      <td>3</td>\n",
       "    </tr>\n",
       "    <tr>\n",
       "      <th>1</th>\n",
       "      <td>b'779273'</td>\n",
       "      <td>0</td>\n",
       "      <td>b'US'</td>\n",
       "      <td>b'Mobile_Electronics'</td>\n",
       "      <td>b'B00KMO6DYG'</td>\n",
       "      <td>b'397452138'</td>\n",
       "      <td>b'4 Gauge Amp Kit Amplifier Install Wiring Com...</td>\n",
       "      <td>b'This is a great wiring kit i used it to set ...</td>\n",
       "      <td>b'2015-08-06'</td>\n",
       "      <td>b'Great kit'</td>\n",
       "      <td>b'R9VSD0ET8FERB'</td>\n",
       "      <td>4</td>\n",
       "      <td>0</td>\n",
       "      <td>0</td>\n",
       "      <td>1</td>\n",
       "      <td>positive</td>\n",
       "      <td>65</td>\n",
       "    </tr>\n",
       "    <tr>\n",
       "      <th>2</th>\n",
       "      <td>b'15410531'</td>\n",
       "      <td>0</td>\n",
       "      <td>b'US'</td>\n",
       "      <td>b'Mobile_Electronics'</td>\n",
       "      <td>b'B000GWLL0K'</td>\n",
       "      <td>b'948304826'</td>\n",
       "      <td>b'Travel Wall Charger fits Creative Zen Vision...</td>\n",
       "      <td>b'It works great so much faster than USB charg...</td>\n",
       "      <td>b'2007-03-15'</td>\n",
       "      <td>b'A/C Charger for Creative Zen Vision M'</td>\n",
       "      <td>b'R3ISXCZHWLJLBH'</td>\n",
       "      <td>5</td>\n",
       "      <td>0</td>\n",
       "      <td>0</td>\n",
       "      <td>1</td>\n",
       "      <td>positive</td>\n",
       "      <td>16</td>\n",
       "    </tr>\n",
       "    <tr>\n",
       "      <th>3</th>\n",
       "      <td>b'27389005'</td>\n",
       "      <td>0</td>\n",
       "      <td>b'US'</td>\n",
       "      <td>b'Mobile_Electronics'</td>\n",
       "      <td>b'B008L3JE6Y'</td>\n",
       "      <td>b'466340015'</td>\n",
       "      <td>b'High Grade Robust 360\\xc2\\xb0 Adjustable Car...</td>\n",
       "      <td>b'This product was purchased to hold a monitor...</td>\n",
       "      <td>b'2013-07-30'</td>\n",
       "      <td>b'camera stand'</td>\n",
       "      <td>b'R1TWVUDOFJSQAW'</td>\n",
       "      <td>5</td>\n",
       "      <td>0</td>\n",
       "      <td>0</td>\n",
       "      <td>1</td>\n",
       "      <td>positive</td>\n",
       "      <td>29</td>\n",
       "    </tr>\n",
       "    <tr>\n",
       "      <th>4</th>\n",
       "      <td>b'2663569'</td>\n",
       "      <td>0</td>\n",
       "      <td>b'US'</td>\n",
       "      <td>b'Mobile_Electronics'</td>\n",
       "      <td>b'B00GHZS4SC'</td>\n",
       "      <td>b'350592810'</td>\n",
       "      <td>b'HDE Multifunctional Bluetooth FM Audio Car K...</td>\n",
       "      <td>b\"it works but it has really bad sound quality...</td>\n",
       "      <td>b'2014-12-31'</td>\n",
       "      <td>b'bad sound quality'</td>\n",
       "      <td>b'R2PEOEUR1LP0GH'</td>\n",
       "      <td>3</td>\n",
       "      <td>0</td>\n",
       "      <td>0</td>\n",
       "      <td>1</td>\n",
       "      <td>positive</td>\n",
       "      <td>16</td>\n",
       "    </tr>\n",
       "  </tbody>\n",
       "</table>\n",
       "</div>"
      ],
      "text/plain": [
       "  data/customer_id  data/helpful_votes data/marketplace  \\\n",
       "0      b'20980074'                   0            b'US'   \n",
       "1        b'779273'                   0            b'US'   \n",
       "2      b'15410531'                   0            b'US'   \n",
       "3      b'27389005'                   0            b'US'   \n",
       "4       b'2663569'                   0            b'US'   \n",
       "\n",
       "   data/product_category data/product_id data/product_parent  \\\n",
       "0  b'Mobile_Electronics'   b'B00D1847NE'        b'274617424'   \n",
       "1  b'Mobile_Electronics'   b'B00KMO6DYG'        b'397452138'   \n",
       "2  b'Mobile_Electronics'   b'B000GWLL0K'        b'948304826'   \n",
       "3  b'Mobile_Electronics'   b'B008L3JE6Y'        b'466340015'   \n",
       "4  b'Mobile_Electronics'   b'B00GHZS4SC'        b'350592810'   \n",
       "\n",
       "                                  data/product_title  \\\n",
       "0  b'Teenage Mutant Ninja Turtles Boombox CD Play...   \n",
       "1  b'4 Gauge Amp Kit Amplifier Install Wiring Com...   \n",
       "2  b'Travel Wall Charger fits Creative Zen Vision...   \n",
       "3  b'High Grade Robust 360\\xc2\\xb0 Adjustable Car...   \n",
       "4  b'HDE Multifunctional Bluetooth FM Audio Car K...   \n",
       "\n",
       "                                    data/review_body data/review_date  \\\n",
       "0                                   b'Does not work'    b'2015-01-09'   \n",
       "1  b'This is a great wiring kit i used it to set ...    b'2015-08-06'   \n",
       "2  b'It works great so much faster than USB charg...    b'2007-03-15'   \n",
       "3  b'This product was purchased to hold a monitor...    b'2013-07-30'   \n",
       "4  b\"it works but it has really bad sound quality...    b'2014-12-31'   \n",
       "\n",
       "                       data/review_headline     data/review_id  \\\n",
       "0                               b'One Star'  b'R1OVS0D6SEXPW7'   \n",
       "1                              b'Great kit'   b'R9VSD0ET8FERB'   \n",
       "2  b'A/C Charger for Creative Zen Vision M'  b'R3ISXCZHWLJLBH'   \n",
       "3                           b'camera stand'  b'R1TWVUDOFJSQAW'   \n",
       "4                      b'bad sound quality'  b'R2PEOEUR1LP0GH'   \n",
       "\n",
       "   data/star_rating  data/total_votes  data/verified_purchase  data/vine  \\\n",
       "0                 1                 0                       0          1   \n",
       "1                 4                 0                       0          1   \n",
       "2                 5                 0                       0          1   \n",
       "3                 5                 0                       0          1   \n",
       "4                 3                 0                       0          1   \n",
       "\n",
       "  Sentiment  Num_words_text  \n",
       "0  negative               3  \n",
       "1  positive              65  \n",
       "2  positive              16  \n",
       "3  positive              29  \n",
       "4  positive              16  "
      ]
     },
     "execution_count": 7,
     "metadata": {},
     "output_type": "execute_result"
    }
   ],
   "source": [
    "## Assigning the positive and negative sentiments as per the score\n",
    "\n",
    "\n",
    "df[\"Sentiment\"] = df[\"data/star_rating\"].apply(lambda score: \"positive\" if score >= 3 else \"negative\")\n",
    "df['Num_words_text'] = df['data/review_body'].apply(lambda x:len(str(x).split())) \n",
    "\n",
    "print('-------Dataset --------')\n",
    "print(df['data/star_rating'].value_counts())\n",
    "print('-------------------------')\n",
    "max_df_sentence_length  = df['Num_words_text'].max()\n",
    "\n",
    "print('Train Max Sentence Length :'+str(max_df_sentence_length))\n",
    "df.head(5)\n"
   ]
  },
  {
   "cell_type": "code",
   "execution_count": 8,
   "id": "a0168ced",
   "metadata": {},
   "outputs": [],
   "source": [
    "## Choosing the relevant columns\n",
    "\n",
    "df = df[[\"data/product_title\", \"data/review_body\", \"data/review_headline\", \"Sentiment\", \"Num_words_text\"]]\n"
   ]
  },
  {
   "cell_type": "code",
   "execution_count": 9,
   "id": "7c342d93",
   "metadata": {
    "scrolled": true
   },
   "outputs": [
    {
     "name": "stderr",
     "output_type": "stream",
     "text": [
      "c:\\users\\sharm\\lib\\site-packages\\ipykernel_launcher.py:3: SettingWithCopyWarning: \n",
      "A value is trying to be set on a copy of a slice from a DataFrame.\n",
      "Try using .loc[row_indexer,col_indexer] = value instead\n",
      "\n",
      "See the caveats in the documentation: https://pandas.pydata.org/pandas-docs/stable/user_guide/indexing.html#returning-a-view-versus-a-copy\n",
      "  This is separate from the ipykernel package so we can avoid doing imports until\n"
     ]
    }
   ],
   "source": [
    "## maping the positive review to 1 and negative to 0\n",
    "\n",
    "df['Sentiment'] = df['Sentiment'].map({'positive':1, 'negative':0})\n"
   ]
  },
  {
   "cell_type": "code",
   "execution_count": 10,
   "id": "71b13698",
   "metadata": {},
   "outputs": [
    {
     "data": {
      "text/html": [
       "<div>\n",
       "<style scoped>\n",
       "    .dataframe tbody tr th:only-of-type {\n",
       "        vertical-align: middle;\n",
       "    }\n",
       "\n",
       "    .dataframe tbody tr th {\n",
       "        vertical-align: top;\n",
       "    }\n",
       "\n",
       "    .dataframe thead th {\n",
       "        text-align: right;\n",
       "    }\n",
       "</style>\n",
       "<table border=\"1\" class=\"dataframe\">\n",
       "  <thead>\n",
       "    <tr style=\"text-align: right;\">\n",
       "      <th></th>\n",
       "      <th>data/product_title</th>\n",
       "      <th>data/review_body</th>\n",
       "      <th>data/review_headline</th>\n",
       "      <th>Sentiment</th>\n",
       "      <th>Num_words_text</th>\n",
       "    </tr>\n",
       "  </thead>\n",
       "  <tbody>\n",
       "    <tr>\n",
       "      <th>0</th>\n",
       "      <td>b'Teenage Mutant Ninja Turtles Boombox CD Play...</td>\n",
       "      <td>b'Does not work'</td>\n",
       "      <td>b'One Star'</td>\n",
       "      <td>0</td>\n",
       "      <td>3</td>\n",
       "    </tr>\n",
       "    <tr>\n",
       "      <th>1</th>\n",
       "      <td>b'4 Gauge Amp Kit Amplifier Install Wiring Com...</td>\n",
       "      <td>b'This is a great wiring kit i used it to set ...</td>\n",
       "      <td>b'Great kit'</td>\n",
       "      <td>1</td>\n",
       "      <td>65</td>\n",
       "    </tr>\n",
       "    <tr>\n",
       "      <th>2</th>\n",
       "      <td>b'Travel Wall Charger fits Creative Zen Vision...</td>\n",
       "      <td>b'It works great so much faster than USB charg...</td>\n",
       "      <td>b'A/C Charger for Creative Zen Vision M'</td>\n",
       "      <td>1</td>\n",
       "      <td>16</td>\n",
       "    </tr>\n",
       "    <tr>\n",
       "      <th>3</th>\n",
       "      <td>b'High Grade Robust 360\\xc2\\xb0 Adjustable Car...</td>\n",
       "      <td>b'This product was purchased to hold a monitor...</td>\n",
       "      <td>b'camera stand'</td>\n",
       "      <td>1</td>\n",
       "      <td>29</td>\n",
       "    </tr>\n",
       "    <tr>\n",
       "      <th>4</th>\n",
       "      <td>b'HDE Multifunctional Bluetooth FM Audio Car K...</td>\n",
       "      <td>b\"it works but it has really bad sound quality...</td>\n",
       "      <td>b'bad sound quality'</td>\n",
       "      <td>1</td>\n",
       "      <td>16</td>\n",
       "    </tr>\n",
       "  </tbody>\n",
       "</table>\n",
       "</div>"
      ],
      "text/plain": [
       "                                  data/product_title  \\\n",
       "0  b'Teenage Mutant Ninja Turtles Boombox CD Play...   \n",
       "1  b'4 Gauge Amp Kit Amplifier Install Wiring Com...   \n",
       "2  b'Travel Wall Charger fits Creative Zen Vision...   \n",
       "3  b'High Grade Robust 360\\xc2\\xb0 Adjustable Car...   \n",
       "4  b'HDE Multifunctional Bluetooth FM Audio Car K...   \n",
       "\n",
       "                                    data/review_body  \\\n",
       "0                                   b'Does not work'   \n",
       "1  b'This is a great wiring kit i used it to set ...   \n",
       "2  b'It works great so much faster than USB charg...   \n",
       "3  b'This product was purchased to hold a monitor...   \n",
       "4  b\"it works but it has really bad sound quality...   \n",
       "\n",
       "                       data/review_headline  Sentiment  Num_words_text  \n",
       "0                               b'One Star'          0               3  \n",
       "1                              b'Great kit'          1              65  \n",
       "2  b'A/C Charger for Creative Zen Vision M'          1              16  \n",
       "3                           b'camera stand'          1              29  \n",
       "4                      b'bad sound quality'          1              16  "
      ]
     },
     "execution_count": 10,
     "metadata": {},
     "output_type": "execute_result"
    }
   ],
   "source": [
    "df.head()\n"
   ]
  },
  {
   "cell_type": "code",
   "execution_count": 11,
   "id": "78bd71e2",
   "metadata": {},
   "outputs": [
    {
     "name": "stderr",
     "output_type": "stream",
     "text": [
      "c:\\users\\sharm\\lib\\site-packages\\ipykernel_launcher.py:3: SettingWithCopyWarning: \n",
      "A value is trying to be set on a copy of a slice from a DataFrame.\n",
      "Try using .loc[row_indexer,col_indexer] = value instead\n",
      "\n",
      "See the caveats in the documentation: https://pandas.pydata.org/pandas-docs/stable/user_guide/indexing.html#returning-a-view-versus-a-copy\n",
      "  This is separate from the ipykernel package so we can avoid doing imports until\n"
     ]
    }
   ],
   "source": [
    "## Adding a column & applyung str.decode to decode to unicode \n",
    "\n",
    "df['short_review'] =df['data/review_body'].str.decode(\"utf-8\")\n"
   ]
  },
  {
   "cell_type": "code",
   "execution_count": 12,
   "id": "9ca26b49",
   "metadata": {},
   "outputs": [
    {
     "data": {
      "text/html": [
       "<div>\n",
       "<style scoped>\n",
       "    .dataframe tbody tr th:only-of-type {\n",
       "        vertical-align: middle;\n",
       "    }\n",
       "\n",
       "    .dataframe tbody tr th {\n",
       "        vertical-align: top;\n",
       "    }\n",
       "\n",
       "    .dataframe thead th {\n",
       "        text-align: right;\n",
       "    }\n",
       "</style>\n",
       "<table border=\"1\" class=\"dataframe\">\n",
       "  <thead>\n",
       "    <tr style=\"text-align: right;\">\n",
       "      <th></th>\n",
       "      <th>data/product_title</th>\n",
       "      <th>data/review_body</th>\n",
       "      <th>data/review_headline</th>\n",
       "      <th>Sentiment</th>\n",
       "      <th>Num_words_text</th>\n",
       "      <th>short_review</th>\n",
       "    </tr>\n",
       "  </thead>\n",
       "  <tbody>\n",
       "    <tr>\n",
       "      <th>0</th>\n",
       "      <td>b'Teenage Mutant Ninja Turtles Boombox CD Play...</td>\n",
       "      <td>b'Does not work'</td>\n",
       "      <td>b'One Star'</td>\n",
       "      <td>0</td>\n",
       "      <td>3</td>\n",
       "      <td>Does not work</td>\n",
       "    </tr>\n",
       "    <tr>\n",
       "      <th>1</th>\n",
       "      <td>b'4 Gauge Amp Kit Amplifier Install Wiring Com...</td>\n",
       "      <td>b'This is a great wiring kit i used it to set ...</td>\n",
       "      <td>b'Great kit'</td>\n",
       "      <td>1</td>\n",
       "      <td>65</td>\n",
       "      <td>This is a great wiring kit i used it to set up...</td>\n",
       "    </tr>\n",
       "    <tr>\n",
       "      <th>2</th>\n",
       "      <td>b'Travel Wall Charger fits Creative Zen Vision...</td>\n",
       "      <td>b'It works great so much faster than USB charg...</td>\n",
       "      <td>b'A/C Charger for Creative Zen Vision M'</td>\n",
       "      <td>1</td>\n",
       "      <td>16</td>\n",
       "      <td>It works great so much faster than USB charger...</td>\n",
       "    </tr>\n",
       "    <tr>\n",
       "      <th>3</th>\n",
       "      <td>b'High Grade Robust 360\\xc2\\xb0 Adjustable Car...</td>\n",
       "      <td>b'This product was purchased to hold a monitor...</td>\n",
       "      <td>b'camera stand'</td>\n",
       "      <td>1</td>\n",
       "      <td>29</td>\n",
       "      <td>This product was purchased to hold a monitor o...</td>\n",
       "    </tr>\n",
       "    <tr>\n",
       "      <th>4</th>\n",
       "      <td>b'HDE Multifunctional Bluetooth FM Audio Car K...</td>\n",
       "      <td>b\"it works but it has really bad sound quality...</td>\n",
       "      <td>b'bad sound quality'</td>\n",
       "      <td>1</td>\n",
       "      <td>16</td>\n",
       "      <td>it works but it has really bad sound quality. ...</td>\n",
       "    </tr>\n",
       "  </tbody>\n",
       "</table>\n",
       "</div>"
      ],
      "text/plain": [
       "                                  data/product_title  \\\n",
       "0  b'Teenage Mutant Ninja Turtles Boombox CD Play...   \n",
       "1  b'4 Gauge Amp Kit Amplifier Install Wiring Com...   \n",
       "2  b'Travel Wall Charger fits Creative Zen Vision...   \n",
       "3  b'High Grade Robust 360\\xc2\\xb0 Adjustable Car...   \n",
       "4  b'HDE Multifunctional Bluetooth FM Audio Car K...   \n",
       "\n",
       "                                    data/review_body  \\\n",
       "0                                   b'Does not work'   \n",
       "1  b'This is a great wiring kit i used it to set ...   \n",
       "2  b'It works great so much faster than USB charg...   \n",
       "3  b'This product was purchased to hold a monitor...   \n",
       "4  b\"it works but it has really bad sound quality...   \n",
       "\n",
       "                       data/review_headline  Sentiment  Num_words_text  \\\n",
       "0                               b'One Star'          0               3   \n",
       "1                              b'Great kit'          1              65   \n",
       "2  b'A/C Charger for Creative Zen Vision M'          1              16   \n",
       "3                           b'camera stand'          1              29   \n",
       "4                      b'bad sound quality'          1              16   \n",
       "\n",
       "                                        short_review  \n",
       "0                                      Does not work  \n",
       "1  This is a great wiring kit i used it to set up...  \n",
       "2  It works great so much faster than USB charger...  \n",
       "3  This product was purchased to hold a monitor o...  \n",
       "4  it works but it has really bad sound quality. ...  "
      ]
     },
     "execution_count": 12,
     "metadata": {},
     "output_type": "execute_result"
    }
   ],
   "source": [
    "df.head()\n"
   ]
  },
  {
   "cell_type": "code",
   "execution_count": 13,
   "id": "f5e562cb",
   "metadata": {},
   "outputs": [],
   "source": [
    "## Create the Corpus\n",
    "\n",
    "corpus = []\n",
    "for i in range(0, 104975):\n",
    "  review = re.sub('[^a-zA-Z]', ' ', df['short_review'][i])\n",
    "  review = review.lower()\n",
    "  review = review.split()\n",
    "  ps = PorterStemmer()\n",
    "  all_stopwords = stopwords.words('english')\n",
    "  all_stopwords.remove('not')\n",
    "  review = [ps.stem(word) for word in review if not word in set(all_stopwords)]\n",
    "  review = ' '.join(review)\n",
    "  corpus.append(review)\n"
   ]
  },
  {
   "cell_type": "code",
   "execution_count": 14,
   "id": "380b9e30",
   "metadata": {},
   "outputs": [
    {
     "name": "stdout",
     "output_type": "stream",
     "text": [
      "['not work', 'great wire kit use set pyle watt amp alpin sub work fine im not sure power cord length batteri back ground cord bit short that flaw gave star great kit', 'work great much faster usb charger buy glad', 'product purchas hold monitor desk connect secur camera door busi serv purpos perfectli']\n"
     ]
    }
   ],
   "source": [
    "print(corpus[:4])\n"
   ]
  },
  {
   "cell_type": "code",
   "execution_count": 15,
   "id": "38e30f6d",
   "metadata": {},
   "outputs": [],
   "source": [
    "## Assigning the values to parameters\n",
    "\n",
    "vocab_size = 20000\n",
    "embedding_dim = 16\n",
    "max_length = 100\n",
    "trunc_type='post'\n",
    "padding_type='post'\n",
    "oov_tok = \"\"\n",
    "training_size = 70000\n",
    "test_size = 95000\n"
   ]
  },
  {
   "cell_type": "code",
   "execution_count": 16,
   "id": "92b029a9",
   "metadata": {},
   "outputs": [],
   "source": [
    "# Createl list of sentiment labels\n",
    "\n",
    "labels = df['Sentiment'].tolist()\n"
   ]
  },
  {
   "cell_type": "code",
   "execution_count": 17,
   "id": "a2b1e15f",
   "metadata": {},
   "outputs": [],
   "source": [
    "# Assigning training, test and validation sets\n",
    "\n",
    "training_sentences = corpus[0:training_size]\n",
    "val_sentence       = corpus[training_size: test_size]\n",
    "testing_sentences  = corpus[test_size:]\n",
    "training_labels    = labels[0:training_size]\n",
    "val_labels         = labels[training_size:test_size]\n",
    "testing_labels     = labels[test_size:]\n"
   ]
  },
  {
   "cell_type": "code",
   "execution_count": 18,
   "id": "dc501316",
   "metadata": {},
   "outputs": [],
   "source": [
    "## Maping text data to numbers and adding padding function makes the length equal\n",
    "\n",
    "tokenizer = Tokenizer(num_words=vocab_size, oov_token=oov_tok)\n",
    "tokenizer.fit_on_texts(training_sentences)\n",
    "\n",
    "word_index = tokenizer.word_index\n",
    "\n",
    "training_sequences = tokenizer.texts_to_sequences(training_sentences)\n",
    "training_padded = pad_sequences(training_sequences, maxlen=max_length, padding=padding_type, truncating=trunc_type)\n",
    "\n",
    "val_sequences = tokenizer.texts_to_sequences(val_sentence)\n",
    "val_padded = pad_sequences(val_sequences, maxlen=max_length, padding=padding_type, truncating=trunc_type)\n",
    "\n",
    "testing_sequences = tokenizer.texts_to_sequences(testing_sentences)\n",
    "testing_padded = pad_sequences(testing_sequences, maxlen=max_length, padding=padding_type, truncating=trunc_type)\n"
   ]
  },
  {
   "cell_type": "code",
   "execution_count": 19,
   "id": "09833f38",
   "metadata": {},
   "outputs": [],
   "source": [
    "## Saving the tokenizer in a file\n",
    "\n",
    "import io\n",
    "import json\n",
    "tokenizer_json = tokenizer.to_json()\n",
    "with io.open('tokenizer.json', 'w', encoding='utf-8') as f:\n",
    "    f.write(json.dumps(tokenizer_json, ensure_ascii=False))\n"
   ]
  },
  {
   "cell_type": "code",
   "execution_count": 20,
   "id": "670c37d6",
   "metadata": {},
   "outputs": [],
   "source": [
    "## Creating arrays of training, test and validation sets\n",
    "\n",
    "training_padded = np.array(training_padded)\n",
    "training_labels = np.array(training_labels)\n",
    "val_padded      = np.array(val_padded)\n",
    "val_labels      = np.array(val_labels)\n",
    "testing_padded = np.array(testing_padded)\n",
    "testing_labels = np.array(testing_labels)\n"
   ]
  },
  {
   "cell_type": "markdown",
   "id": "de4bdd2d",
   "metadata": {},
   "source": [
    "# ANN Model Implementation "
   ]
  },
  {
   "cell_type": "code",
   "execution_count": 21,
   "id": "1ff4aaf6",
   "metadata": {},
   "outputs": [],
   "source": [
    "model = tf.keras.Sequential([\n",
    "    tf.keras.layers.Embedding(vocab_size, embedding_dim, input_length=max_length),\n",
    "    tf.keras.layers.Dropout(0.4),\n",
    "\n",
    "    tf.keras.layers.Flatten(),\n",
    "    tf.keras.layers.Dense(128, activation='relu'),\n",
    "    tf.keras.layers.Dropout(0.4),\n",
    "\n",
    "    tf.keras.layers.Dense(64, activation='relu'),\n",
    "    tf.keras.layers.Dropout(0.4),\n",
    "\n",
    "    tf.keras.layers.Dense(1, activation='sigmoid'),\n",
    "])\n",
    "\n"
   ]
  },
  {
   "cell_type": "code",
   "execution_count": 22,
   "id": "393ef6f0",
   "metadata": {},
   "outputs": [
    {
     "name": "stdout",
     "output_type": "stream",
     "text": [
      "Model: \"sequential\"\n",
      "_________________________________________________________________\n",
      " Layer (type)                Output Shape              Param #   \n",
      "=================================================================\n",
      " embedding (Embedding)       (None, 100, 16)           320000    \n",
      "                                                                 \n",
      " dropout (Dropout)           (None, 100, 16)           0         \n",
      "                                                                 \n",
      " flatten (Flatten)           (None, 1600)              0         \n",
      "                                                                 \n",
      " dense (Dense)               (None, 128)               204928    \n",
      "                                                                 \n",
      " dropout_1 (Dropout)         (None, 128)               0         \n",
      "                                                                 \n",
      " dense_1 (Dense)             (None, 64)                8256      \n",
      "                                                                 \n",
      " dropout_2 (Dropout)         (None, 64)                0         \n",
      "                                                                 \n",
      " dense_2 (Dense)             (None, 1)                 65        \n",
      "                                                                 \n",
      "=================================================================\n",
      "Total params: 533,249\n",
      "Trainable params: 533,249\n",
      "Non-trainable params: 0\n",
      "_________________________________________________________________\n"
     ]
    }
   ],
   "source": [
    "model.summary()\n"
   ]
  },
  {
   "cell_type": "code",
   "execution_count": 23,
   "id": "3cb968e1",
   "metadata": {},
   "outputs": [],
   "source": [
    "model.compile(loss='binary_crossentropy', optimizer='adam', metrics=['accuracy'])"
   ]
  },
  {
   "cell_type": "code",
   "execution_count": 24,
   "id": "e55f0271",
   "metadata": {},
   "outputs": [
    {
     "name": "stdout",
     "output_type": "stream",
     "text": [
      "Epoch 1/8\n",
      "2188/2188 [==============================] - 24s 10ms/step - loss: 0.3214 - accuracy: 0.8640 - val_loss: 0.2642 - val_accuracy: 0.8924\n",
      "Epoch 2/8\n",
      "2188/2188 [==============================] - 19s 9ms/step - loss: 0.2461 - accuracy: 0.8988 - val_loss: 0.2632 - val_accuracy: 0.8904\n",
      "Epoch 3/8\n",
      "2188/2188 [==============================] - 19s 9ms/step - loss: 0.2188 - accuracy: 0.9109 - val_loss: 0.2708 - val_accuracy: 0.8910\n",
      "Epoch 4/8\n",
      "2188/2188 [==============================] - 19s 9ms/step - loss: 0.1981 - accuracy: 0.9198 - val_loss: 0.2869 - val_accuracy: 0.8872\n",
      "Epoch 5/8\n",
      "2188/2188 [==============================] - 19s 9ms/step - loss: 0.1782 - accuracy: 0.9280 - val_loss: 0.3030 - val_accuracy: 0.8865\n",
      "Epoch 6/8\n",
      "2188/2188 [==============================] - 19s 9ms/step - loss: 0.1637 - accuracy: 0.9350 - val_loss: 0.3282 - val_accuracy: 0.8873\n",
      "Epoch 7/8\n",
      "2188/2188 [==============================] - 19s 9ms/step - loss: 0.1520 - accuracy: 0.9399 - val_loss: 0.3203 - val_accuracy: 0.8820\n",
      "Epoch 8/8\n",
      "2188/2188 [==============================] - 19s 9ms/step - loss: 0.1450 - accuracy: 0.9426 - val_loss: 0.3289 - val_accuracy: 0.8852\n"
     ]
    }
   ],
   "source": [
    "num_epochs = 8\n",
    "history = model.fit(training_padded, training_labels, epochs=num_epochs,batch_size=32,validation_data=(val_padded, val_labels), verbose=1)\n"
   ]
  },
  {
   "cell_type": "code",
   "execution_count": 25,
   "id": "ecdcaa2e",
   "metadata": {},
   "outputs": [
    {
     "name": "stdout",
     "output_type": "stream",
     "text": [
      "Test Loss: 0.3263629674911499\n",
      "Test Accuracy: 0.8847118020057678\n"
     ]
    }
   ],
   "source": [
    "test_loss, test_acc = model.evaluate(testing_padded, testing_labels, verbose=0)\n",
    "print(\"Test Loss:\", test_loss)\n",
    "print(\"Test Accuracy:\", test_acc)"
   ]
  },
  {
   "cell_type": "code",
   "execution_count": 26,
   "id": "1446fa7e",
   "metadata": {},
   "outputs": [
    {
     "data": {
      "image/png": "[encoded data removed]",
      "text/plain": [
       "<Figure size 1000x500 with 2 Axes>"
      ]
     },
     "metadata": {},
     "output_type": "display_data"
    }
   ],
   "source": [
    "fig, (ax1, ax2) = plt.subplots(1, 2, figsize=(10, 5))\n",
    "\n",
    "ax1.plot(history.history['accuracy'])\n",
    "ax1.plot(history.history['val_accuracy'])\n",
    "ax1.set_title('model accuracy')\n",
    "ax1.set_ylabel('accuracy')\n",
    "ax1.set_xlabel('epoch')\n",
    "ax1.legend(['train','test'], loc='upper left')\n",
    "\n",
    "ax2.plot(history.history['loss'])\n",
    "ax2.plot(history.history['val_loss'])\n",
    "ax2.set_title('model loss')\n",
    "ax2.set_ylabel('loss')\n",
    "ax2.set_xlabel('epoch')\n",
    "ax2.legend(['train','test'], loc='upper left')\n",
    "\n",
    "plt.show()"
   ]
  },
  {
   "cell_type": "markdown",
   "id": "763b91ed",
   "metadata": {},
   "source": [
    "# From the graph we can see that there is significant difference between the test and train accuracy. For training we are getting over 95% accuracy while for test we got 88.4% accuracy. There is also difference between the losses. Inference: The model is still overfitting\n",
    "\n",
    "# Initially when I started training the model, we got 100% test accuracy. Which was a clear sign of overfitting, I tried tweaking the hyperparameters and adding early stopping, in addition to already implemented training, test and validation datasets and reducing the data size. However the model was not performing well, then I tried adding multiple dense layers and dropout layers, which gave a better result which can be seen in the above code. For brevity I am submitting the better performing code. I do have the previous notebooks with old code and plan to work on it and make improvements."
   ]
  },
  {
   "cell_type": "markdown",
   "id": "37e83665",
   "metadata": {},
   "source": [
    "## CNN\n"
   ]
  },
  {
   "cell_type": "code",
   "execution_count": 27,
   "id": "b6ce507c",
   "metadata": {},
   "outputs": [
    {
     "name": "stdout",
     "output_type": "stream",
     "text": [
      "Model: \"sequential_1\"\n",
      "_________________________________________________________________\n",
      " Layer (type)                Output Shape              Param #   \n",
      "=================================================================\n",
      " embedding_1 (Embedding)     (None, 100, 16)           320000    \n",
      "                                                                 \n",
      " conv1d (Conv1D)             (None, 96, 128)           10368     \n",
      "                                                                 \n",
      " global_max_pooling1d (Globa  (None, 128)              0         \n",
      " lMaxPooling1D)                                                  \n",
      "                                                                 \n",
      " dense_3 (Dense)             (None, 1)                 129       \n",
      "                                                                 \n",
      " flatten_1 (Flatten)         (None, 1)                 0         \n",
      "                                                                 \n",
      "=================================================================\n",
      "Total params: 330,497\n",
      "Trainable params: 330,497\n",
      "Non-trainable params: 0\n",
      "_________________________________________________________________\n"
     ]
    }
   ],
   "source": [
    "from keras.layers import Conv1D\n",
    "\n",
    "model = tf.keras.Sequential([\n",
    "\n",
    "    tf.keras.layers.Embedding(vocab_size, embedding_dim, input_length=max_length),\n",
    "    tf.keras.layers.Conv1D(128, 5, activation='relu'),\n",
    "    tf.keras.layers.GlobalMaxPooling1D(),\n",
    "    tf.keras.layers.Dense(1, activation='sigmoid'),\n",
    "    tf.keras.layers.Flatten(),\n",
    "\n",
    "])\n",
    "model.summary()\n",
    "model.compile(loss='binary_crossentropy',optimizer='adam',metrics=['accuracy'])"
   ]
  },
  {
   "cell_type": "code",
   "execution_count": 28,
   "id": "5573de97",
   "metadata": {},
   "outputs": [
    {
     "name": "stdout",
     "output_type": "stream",
     "text": [
      "Epoch 1/8\n",
      "2188/2188 [==============================] - 25s 11ms/step - loss: 0.2950 - accuracy: 0.8723 - val_loss: 0.2595 - val_accuracy: 0.8924\n",
      "Epoch 2/8\n",
      "2188/2188 [==============================] - 25s 11ms/step - loss: 0.2224 - accuracy: 0.9077 - val_loss: 0.2546 - val_accuracy: 0.8935\n",
      "Epoch 3/8\n",
      "2188/2188 [==============================] - 25s 11ms/step - loss: 0.1844 - accuracy: 0.9262 - val_loss: 0.2742 - val_accuracy: 0.8869\n",
      "Epoch 4/8\n",
      "2188/2188 [==============================] - 25s 11ms/step - loss: 0.1478 - accuracy: 0.9436 - val_loss: 0.2932 - val_accuracy: 0.8870\n",
      "Epoch 5/8\n",
      "2188/2188 [==============================] - 26s 12ms/step - loss: 0.1137 - accuracy: 0.9590 - val_loss: 0.3342 - val_accuracy: 0.8800\n",
      "Epoch 6/8\n",
      "2188/2188 [==============================] - 25s 11ms/step - loss: 0.0847 - accuracy: 0.9709 - val_loss: 0.3808 - val_accuracy: 0.8785\n",
      "Epoch 7/8\n",
      "2188/2188 [==============================] - 25s 11ms/step - loss: 0.0641 - accuracy: 0.9792 - val_loss: 0.4270 - val_accuracy: 0.8782\n",
      "Epoch 8/8\n",
      "2188/2188 [==============================] - 25s 11ms/step - loss: 0.0470 - accuracy: 0.9853 - val_loss: 0.4852 - val_accuracy: 0.8722\n"
     ]
    }
   ],
   "source": [
    "num_epochs = 8\n",
    "history = model.fit(training_padded, training_labels, epochs=num_epochs, validation_data=(val_padded, val_labels), verbose=1)"
   ]
  },
  {
   "cell_type": "code",
   "execution_count": 29,
   "id": "14252ea7",
   "metadata": {},
   "outputs": [
    {
     "name": "stdout",
     "output_type": "stream",
     "text": [
      "Test Loss: 0.47536909580230713\n",
      "Test Accuracy: 0.8734837174415588\n"
     ]
    }
   ],
   "source": [
    "test_loss, test_acc = model.evaluate(testing_padded, testing_labels, verbose=0)\n",
    "print(\"Test Loss:\", test_loss)\n",
    "print(\"Test Accuracy:\", test_acc)"
   ]
  },
  {
   "cell_type": "code",
   "execution_count": 30,
   "id": "196a0d55",
   "metadata": {},
   "outputs": [
    {
     "data": {
      "image/png": "[encoded data removed]",
      "text/plain": [
       "<Figure size 1000x500 with 2 Axes>"
      ]
     },
     "metadata": {},
     "output_type": "display_data"
    }
   ],
   "source": [
    "fig, (ax1, ax2) = plt.subplots(1, 2, figsize=(10, 5))\n",
    "\n",
    "ax1.plot(history.history['accuracy'])\n",
    "ax1.plot(history.history['val_accuracy'])\n",
    "ax1.set_title('model accuracy')\n",
    "ax1.set_ylabel('accuracy')\n",
    "ax1.set_xlabel('epoch')\n",
    "ax1.legend(['train','test'], loc='upper left')\n",
    "\n",
    "ax2.plot(history.history['loss'])\n",
    "ax2.plot(history.history['val_loss'])\n",
    "ax2.set_title('model loss')\n",
    "ax2.set_ylabel('loss')\n",
    "ax2.set_xlabel('epoch')\n",
    "ax2.legend(['train','test'], loc='upper left')\n",
    "\n",
    "plt.show()"
   ]
  },
  {
   "cell_type": "markdown",
   "id": "2ff92d2b",
   "metadata": {},
   "source": [
    "#  From the above graph for CNN with 1D Convolution Network (Primarily CNN is used for image data, but it has also proved to work well for text data, for text data we use 1D network) we can see that there is significant difference between the test and train accuracy. For training we are getting over 99% accuracy while for test we got 87% accuracy. There is also difference between the losses. Inference: The model is still overfitting\n",
    "\n",
    "# Initially when I started training the model, we got 100% test accuracy. Which was a clear sign of overfitting, I tried tweaking the hyperparameters and adding early stopping, in addition to already implemented training, test and validation datasets and reducing the data size. However the model was not performing well, then I tried adding multiple dense layers and dropout layers, which gave a better result which can be seen in the above code. For brevity I am submitting the better performing code. I do have the previous notebooks with old code and plan to work on it and make improvements."
   ]
  },
  {
   "cell_type": "markdown",
   "id": "6a1f553a",
   "metadata": {},
   "source": [
    "# RNN"
   ]
  },
  {
   "cell_type": "code",
   "execution_count": 31,
   "id": "ef01e3f5",
   "metadata": {},
   "outputs": [
    {
     "name": "stdout",
     "output_type": "stream",
     "text": [
      "Model: \"sequential_2\"\n",
      "_________________________________________________________________\n",
      " Layer (type)                Output Shape              Param #   \n",
      "=================================================================\n",
      " embedding_2 (Embedding)     (None, 100, 16)           320000    \n",
      "                                                                 \n",
      " lstm (LSTM)                 (None, 100, 128)          74240     \n",
      "                                                                 \n",
      " lstm_1 (LSTM)               (None, 128)               131584    \n",
      "                                                                 \n",
      " dense_4 (Dense)             (None, 1)                 129       \n",
      "                                                                 \n",
      "=================================================================\n",
      "Total params: 525,953\n",
      "Trainable params: 525,953\n",
      "Non-trainable params: 0\n",
      "_________________________________________________________________\n"
     ]
    }
   ],
   "source": [
    "model = tf.keras.Sequential([\n",
    "    tf.keras.layers.Embedding(vocab_size, embedding_dim, input_length=max_length),\n",
    "    tf.keras.layers.LSTM(128, return_sequences=True),\n",
    "    tf.keras.layers.LSTM(128),\n",
    "    tf.keras.layers.Dense(1, activation='sigmoid')\n",
    "])\n",
    "model.summary()\n",
    "model.compile(loss='binary_crossentropy',optimizer='adam',metrics=['accuracy'])"
   ]
  },
  {
   "cell_type": "code",
   "execution_count": 32,
   "id": "f6bd1a48",
   "metadata": {},
   "outputs": [
    {
     "name": "stdout",
     "output_type": "stream",
     "text": [
      "Epoch 1/8\n",
      "2188/2188 [==============================] - 374s 169ms/step - loss: 0.5504 - accuracy: 0.7627 - val_loss: 0.5386 - val_accuracy: 0.7682\n",
      "Epoch 2/8\n",
      "2188/2188 [==============================] - 374s 171ms/step - loss: 0.5010 - accuracy: 0.7778 - val_loss: 0.5077 - val_accuracy: 0.7780\n",
      "Epoch 3/8\n",
      "2188/2188 [==============================] - 374s 171ms/step - loss: 0.5121 - accuracy: 0.7798 - val_loss: 0.5485 - val_accuracy: 0.7626\n",
      "Epoch 4/8\n",
      "2188/2188 [==============================] - 370s 169ms/step - loss: 0.5481 - accuracy: 0.7627 - val_loss: 0.5483 - val_accuracy: 0.7626\n",
      "Epoch 5/8\n",
      "2188/2188 [==============================] - 378s 173ms/step - loss: 0.5481 - accuracy: 0.7627 - val_loss: 0.5483 - val_accuracy: 0.7626\n",
      "Epoch 6/8\n",
      "2188/2188 [==============================] - 373s 170ms/step - loss: 0.5481 - accuracy: 0.7627 - val_loss: 0.5482 - val_accuracy: 0.7626\n",
      "Epoch 7/8\n",
      "2188/2188 [==============================] - 703s 321ms/step - loss: 0.5481 - accuracy: 0.7627 - val_loss: 0.5481 - val_accuracy: 0.7626\n",
      "Epoch 8/8\n",
      "2188/2188 [==============================] - 373s 170ms/step - loss: 0.5482 - accuracy: 0.7627 - val_loss: 0.5488 - val_accuracy: 0.7626\n"
     ]
    }
   ],
   "source": [
    "num_epochs = 8\n",
    "history = model.fit(training_padded, training_labels, epochs=num_epochs, validation_data=(val_padded, val_labels), verbose=1)"
   ]
  },
  {
   "cell_type": "code",
   "execution_count": 33,
   "id": "1af2e7e1",
   "metadata": {},
   "outputs": [
    {
     "name": "stdout",
     "output_type": "stream",
     "text": [
      "Test Loss: 0.5470375418663025\n",
      "Test Accuracy: 0.7642105221748352\n"
     ]
    }
   ],
   "source": [
    "test_loss, test_acc = model.evaluate(testing_padded, testing_labels, verbose=0)\n",
    "print(\"Test Loss:\", test_loss)\n",
    "print(\"Test Accuracy:\", test_acc)"
   ]
  },
  {
   "cell_type": "code",
   "execution_count": 34,
   "id": "9d99377c",
   "metadata": {},
   "outputs": [
    {
     "data": {
      "image/png": "[encoded data removed]",
      "text/plain": [
       "<Figure size 1000x500 with 2 Axes>"
      ]
     },
     "metadata": {},
     "output_type": "display_data"
    }
   ],
   "source": [
    "fig, (ax1, ax2) = plt.subplots(1, 2, figsize=(10, 5))\n",
    "\n",
    "ax1.plot(history.history['accuracy'])\n",
    "ax1.plot(history.history['val_accuracy'])\n",
    "ax1.set_title('model accuracy')\n",
    "ax1.set_ylabel('accuracy')\n",
    "ax1.set_xlabel('epoch')\n",
    "ax1.legend(['train','test'], loc='upper left')\n",
    "\n",
    "ax2.plot(history.history['loss'])\n",
    "ax2.plot(history.history['val_loss'])\n",
    "ax2.set_title('model loss')\n",
    "ax2.set_ylabel('loss')\n",
    "ax2.set_xlabel('epoch')\n",
    "ax2.legend(['train','test'], loc='upper left')\n",
    "\n",
    "plt.show()"
   ]
  },
  {
   "cell_type": "markdown",
   "id": "e8028f3b",
   "metadata": {},
   "source": [
    "# From the graph we can see that there is significant difference between the test and train accuracy. For training we are getting over 76% accuracy and for test we also got 76% accuracy. The train and test accuracies are almost the same which means RNN with LSTM is performing better as compared to ANN & CNN. Even though the accuracy is not at par, some more tuning can help improve the model\n",
    "\n",
    "# Initially when I started training the model, we got 100% test accuracy. Which was a clear sign of overfitting, I tried tweaking the hyperparameters and adding early stopping, in addition to already implemented training, test and validation datasets and reducing the data size. However the model was not performing well, then I tried adding multiple dense layers and dropout layers, which gave a better result which can be seen in the above code. For brevity I am submitting the better performing code. I do have the previous notebooks with old code and plan to work on it and make improvements."
   ]
  },
  {
   "cell_type": "code",
   "execution_count": 35,
   "id": "26d40193",
   "metadata": {},
   "outputs": [],
   "source": [
    "#BERT"
   ]
  },
  {
   "cell_type": "code",
   "execution_count": 36,
   "id": "555ec365",
   "metadata": {},
   "outputs": [],
   "source": [
    "from transformers import DistilBertTokenizerFast\n",
    "from transformers import TFDistilBertForSequenceClassification\n"
   ]
  },
  {
   "cell_type": "code",
   "execution_count": 37,
   "id": "18667471",
   "metadata": {},
   "outputs": [],
   "source": [
    "tokenizer = DistilBertTokenizerFast.from_pretrained('distilbert-base-uncased')\n"
   ]
  },
  {
   "cell_type": "code",
   "execution_count": 38,
   "id": "c90fd7a1",
   "metadata": {},
   "outputs": [
    {
     "data": {
      "text/plain": [
       "{'input_ids': [[101, 2025, 2147, 102]], 'attention_mask': [[1, 1, 1, 1]]}"
      ]
     },
     "execution_count": 38,
     "metadata": {},
     "output_type": "execute_result"
    }
   ],
   "source": [
    "tokenizer([training_sentences[0]], truncation=True,\n",
    "\n",
    "                            padding=True, max_length=128)\n"
   ]
  },
  {
   "cell_type": "code",
   "execution_count": 39,
   "id": "8d078535",
   "metadata": {},
   "outputs": [
    {
     "ename": "MemoryError",
     "evalue": "",
     "output_type": "error",
     "traceback": [
      "\u001b[1;31m---------------------------------------------------------------------------\u001b[0m",
      "\u001b[1;31mMemoryError\u001b[0m                               Traceback (most recent call last)",
      "\u001b[1;32m~\\AppData\\Local\\Temp\\ipykernel_15604\\3529092952.py\u001b[0m in \u001b[0;36m<module>\u001b[1;34m\u001b[0m\n\u001b[0;32m      1\u001b[0m train_encodings = tokenizer(training_sentences,\n\u001b[0;32m      2\u001b[0m                             \u001b[0mtruncation\u001b[0m\u001b[1;33m=\u001b[0m\u001b[1;32mTrue\u001b[0m\u001b[1;33m,\u001b[0m\u001b[1;33m\u001b[0m\u001b[1;33m\u001b[0m\u001b[0m\n\u001b[1;32m----> 3\u001b[1;33m                             padding=True)\n\u001b[0m\u001b[0;32m      4\u001b[0m val_encodings = tokenizer(val_sentences,\n\u001b[0;32m      5\u001b[0m                             \u001b[0mtruncation\u001b[0m\u001b[1;33m=\u001b[0m\u001b[1;32mTrue\u001b[0m\u001b[1;33m,\u001b[0m\u001b[1;33m\u001b[0m\u001b[1;33m\u001b[0m\u001b[0m\n",
      "\u001b[1;32mc:\\users\\sharm\\lib\\site-packages\\transformers\\tokenization_utils_base.py\u001b[0m in \u001b[0;36m__call__\u001b[1;34m(self, text, text_pair, text_target, text_pair_target, add_special_tokens, padding, truncation, max_length, stride, is_split_into_words, pad_to_multiple_of, return_tensors, return_token_type_ids, return_attention_mask, return_overflowing_tokens, return_special_tokens_mask, return_offsets_mapping, return_length, verbose, **kwargs)\u001b[0m\n\u001b[0;32m   2521\u001b[0m             \u001b[1;32mif\u001b[0m \u001b[1;32mnot\u001b[0m \u001b[0mself\u001b[0m\u001b[1;33m.\u001b[0m\u001b[0m_in_target_context_manager\u001b[0m\u001b[1;33m:\u001b[0m\u001b[1;33m\u001b[0m\u001b[1;33m\u001b[0m\u001b[0m\n\u001b[0;32m   2522\u001b[0m                 \u001b[0mself\u001b[0m\u001b[1;33m.\u001b[0m\u001b[0m_switch_to_input_mode\u001b[0m\u001b[1;33m(\u001b[0m\u001b[1;33m)\u001b[0m\u001b[1;33m\u001b[0m\u001b[1;33m\u001b[0m\u001b[0m\n\u001b[1;32m-> 2523\u001b[1;33m             \u001b[0mencodings\u001b[0m \u001b[1;33m=\u001b[0m \u001b[0mself\u001b[0m\u001b[1;33m.\u001b[0m\u001b[0m_call_one\u001b[0m\u001b[1;33m(\u001b[0m\u001b[0mtext\u001b[0m\u001b[1;33m=\u001b[0m\u001b[0mtext\u001b[0m\u001b[1;33m,\u001b[0m \u001b[0mtext_pair\u001b[0m\u001b[1;33m=\u001b[0m\u001b[0mtext_pair\u001b[0m\u001b[1;33m,\u001b[0m \u001b[1;33m**\u001b[0m\u001b[0mall_kwargs\u001b[0m\u001b[1;33m)\u001b[0m\u001b[1;33m\u001b[0m\u001b[1;33m\u001b[0m\u001b[0m\n\u001b[0m\u001b[0;32m   2524\u001b[0m         \u001b[1;32mif\u001b[0m \u001b[0mtext_target\u001b[0m \u001b[1;32mis\u001b[0m \u001b[1;32mnot\u001b[0m \u001b[1;32mNone\u001b[0m\u001b[1;33m:\u001b[0m\u001b[1;33m\u001b[0m\u001b[1;33m\u001b[0m\u001b[0m\n\u001b[0;32m   2525\u001b[0m             \u001b[0mself\u001b[0m\u001b[1;33m.\u001b[0m\u001b[0m_switch_to_target_mode\u001b[0m\u001b[1;33m(\u001b[0m\u001b[1;33m)\u001b[0m\u001b[1;33m\u001b[0m\u001b[1;33m\u001b[0m\u001b[0m\n",
      "\u001b[1;32mc:\\users\\sharm\\lib\\site-packages\\transformers\\tokenization_utils_base.py\u001b[0m in \u001b[0;36m_call_one\u001b[1;34m(self, text, text_pair, add_special_tokens, padding, truncation, max_length, stride, is_split_into_words, pad_to_multiple_of, return_tensors, return_token_type_ids, return_attention_mask, return_overflowing_tokens, return_special_tokens_mask, return_offsets_mapping, return_length, verbose, **kwargs)\u001b[0m\n\u001b[0;32m   2624\u001b[0m                 \u001b[0mreturn_length\u001b[0m\u001b[1;33m=\u001b[0m\u001b[0mreturn_length\u001b[0m\u001b[1;33m,\u001b[0m\u001b[1;33m\u001b[0m\u001b[1;33m\u001b[0m\u001b[0m\n\u001b[0;32m   2625\u001b[0m                 \u001b[0mverbose\u001b[0m\u001b[1;33m=\u001b[0m\u001b[0mverbose\u001b[0m\u001b[1;33m,\u001b[0m\u001b[1;33m\u001b[0m\u001b[1;33m\u001b[0m\u001b[0m\n\u001b[1;32m-> 2626\u001b[1;33m                 \u001b[1;33m**\u001b[0m\u001b[0mkwargs\u001b[0m\u001b[1;33m,\u001b[0m\u001b[1;33m\u001b[0m\u001b[1;33m\u001b[0m\u001b[0m\n\u001b[0m\u001b[0;32m   2627\u001b[0m             )\n\u001b[0;32m   2628\u001b[0m         \u001b[1;32melse\u001b[0m\u001b[1;33m:\u001b[0m\u001b[1;33m\u001b[0m\u001b[1;33m\u001b[0m\u001b[0m\n",
      "\u001b[1;32mc:\\users\\sharm\\lib\\site-packages\\transformers\\tokenization_utils_base.py\u001b[0m in \u001b[0;36mbatch_encode_plus\u001b[1;34m(self, batch_text_or_text_pairs, add_special_tokens, padding, truncation, max_length, stride, is_split_into_words, pad_to_multiple_of, return_tensors, return_token_type_ids, return_attention_mask, return_overflowing_tokens, return_special_tokens_mask, return_offsets_mapping, return_length, verbose, **kwargs)\u001b[0m\n\u001b[0;32m   2815\u001b[0m             \u001b[0mreturn_length\u001b[0m\u001b[1;33m=\u001b[0m\u001b[0mreturn_length\u001b[0m\u001b[1;33m,\u001b[0m\u001b[1;33m\u001b[0m\u001b[1;33m\u001b[0m\u001b[0m\n\u001b[0;32m   2816\u001b[0m             \u001b[0mverbose\u001b[0m\u001b[1;33m=\u001b[0m\u001b[0mverbose\u001b[0m\u001b[1;33m,\u001b[0m\u001b[1;33m\u001b[0m\u001b[1;33m\u001b[0m\u001b[0m\n\u001b[1;32m-> 2817\u001b[1;33m             \u001b[1;33m**\u001b[0m\u001b[0mkwargs\u001b[0m\u001b[1;33m,\u001b[0m\u001b[1;33m\u001b[0m\u001b[1;33m\u001b[0m\u001b[0m\n\u001b[0m\u001b[0;32m   2818\u001b[0m         )\n\u001b[0;32m   2819\u001b[0m \u001b[1;33m\u001b[0m\u001b[0m\n",
      "\u001b[1;32mc:\\users\\sharm\\lib\\site-packages\\transformers\\tokenization_utils_fast.py\u001b[0m in \u001b[0;36m_batch_encode_plus\u001b[1;34m(self, batch_text_or_text_pairs, add_special_tokens, padding_strategy, truncation_strategy, max_length, stride, is_split_into_words, pad_to_multiple_of, return_tensors, return_token_type_ids, return_attention_mask, return_overflowing_tokens, return_special_tokens_mask, return_offsets_mapping, return_length, verbose)\u001b[0m\n\u001b[0;32m    450\u001b[0m                 \u001b[0mverbose\u001b[0m\u001b[1;33m=\u001b[0m\u001b[0mverbose\u001b[0m\u001b[1;33m,\u001b[0m\u001b[1;33m\u001b[0m\u001b[1;33m\u001b[0m\u001b[0m\n\u001b[0;32m    451\u001b[0m             )\n\u001b[1;32m--> 452\u001b[1;33m             \u001b[1;32mfor\u001b[0m \u001b[0mencoding\u001b[0m \u001b[1;32min\u001b[0m \u001b[0mencodings\u001b[0m\u001b[1;33m\u001b[0m\u001b[1;33m\u001b[0m\u001b[0m\n\u001b[0m\u001b[0;32m    453\u001b[0m         ]\n\u001b[0;32m    454\u001b[0m \u001b[1;33m\u001b[0m\u001b[0m\n",
      "\u001b[1;32mc:\\users\\sharm\\lib\\site-packages\\transformers\\tokenization_utils_fast.py\u001b[0m in \u001b[0;36m<listcomp>\u001b[1;34m(.0)\u001b[0m\n\u001b[0;32m    450\u001b[0m                 \u001b[0mverbose\u001b[0m\u001b[1;33m=\u001b[0m\u001b[0mverbose\u001b[0m\u001b[1;33m,\u001b[0m\u001b[1;33m\u001b[0m\u001b[1;33m\u001b[0m\u001b[0m\n\u001b[0;32m    451\u001b[0m             )\n\u001b[1;32m--> 452\u001b[1;33m             \u001b[1;32mfor\u001b[0m \u001b[0mencoding\u001b[0m \u001b[1;32min\u001b[0m \u001b[0mencodings\u001b[0m\u001b[1;33m\u001b[0m\u001b[1;33m\u001b[0m\u001b[0m\n\u001b[0m\u001b[0;32m    453\u001b[0m         ]\n\u001b[0;32m    454\u001b[0m \u001b[1;33m\u001b[0m\u001b[0m\n",
      "\u001b[1;31mMemoryError\u001b[0m: "
     ]
    }
   ],
   "source": [
    "train_encodings = tokenizer(training_sentences,\n",
    "                            truncation=True,\n",
    "                            padding=True)\n",
    "\n",
    "val_encodings = tokenizer(val_sentences,\n",
    "                            truncation=True,\n",
    "                            padding=True)\n"
   ]
  },
  {
   "cell_type": "markdown",
   "id": "d40a3277",
   "metadata": {},
   "source": [
    "# We are getting memory error as I don't have GPU on my system. However it is shown in the reference article run on a GPU machine."
   ]
  },
  {
   "cell_type": "code",
   "execution_count": null,
   "id": "7ca03b2e",
   "metadata": {},
   "outputs": [],
   "source": [
    "train_dataset = tf.data.Dataset.from_tensor_slices((\n",
    "    dict(train_encodings),\n",
    "    training_labels\n",
    "))\n",
    "\n",
    "val_dataset = tf.data.Dataset.from_tensor_slices((\n",
    "    dict(val_encodings),\n",
    "    val_labels\n",
    "))\n",
    "     \n"
   ]
  },
  {
   "cell_type": "code",
   "execution_count": null,
   "id": "6849f318",
   "metadata": {},
   "outputs": [],
   "source": [
    "model = TFDistilBertForSequenceClassification.from_pretrained('distilbert-base-uncased',num_labels=2)\n"
   ]
  },
  {
   "cell_type": "code",
   "execution_count": null,
   "id": "4ffb104d",
   "metadata": {},
   "outputs": [],
   "source": [
    "optimizer = tf.keras.optimizers.Adam(learning_rate=5e-5, epsilon=1e-08)\n",
    "model.compile(optimizer=optimizer, loss=model.compute_loss, metrics=['accuracy'])\n",
    "model.fit(train_dataset.shuffle(100).batch(16),\n",
    "          epochs=2,\n",
    "          batch_size=16,\n",
    "          validation_data=val_dataset.shuffle(100).batch(16))\n",
    "\n"
   ]
  },
  {
   "cell_type": "code",
   "execution_count": null,
   "id": "77a1a488",
   "metadata": {},
   "outputs": [],
   "source": [
    "test_loss, test_acc = model.evaluate(testing_padded, testing_labels, verbose=0)\n",
    "print(\"Test Loss:\", test_loss)\n",
    "print(\"Test Accuracy:\", test_acc)"
   ]
  },
  {
   "cell_type": "markdown",
   "id": "d3472abc",
   "metadata": {},
   "source": [
    "# The BERT model which was already tuned and used as a base for our Project,to implement and compare ANN, CNN & RNN with BERT. From the reference article on BERT and the 92% accuracy, hands down BERT is a better performing model for Sentiment Analysis of a given dataset.\n",
    "\n",
    "# There are articles stating that BERT has replaced RNN with LSTM model as in RNN models there was huge imformation loss when dealing with sequencial data. From our models also we can see that RNN performed better and BERT is even better than RNN.\n",
    "\n",
    "# There is still a good scope to learn and tweak the models to get a resonably good accuracy and model tuning. Due to lack of time and still being in the DL learning process, I am going to continue working on this project and get a good working model. Once done I would like to share my inferences and results with professors for their feedback."
   ]
  },
  {
   "cell_type": "markdown",
   "id": "add3c46f",
   "metadata": {},
   "source": [
    "## Also the model fit for RNN with LSTM took around 45 minutes each time. Tweaking the epochs and instance size migh influence with the time and performance of the model"
   ]
  }
 ],
 "metadata": {
  "kernelspec": {
   "display_name": "Python 3 (ipykernel)",
   "language": "python",
   "name": "python3"
  },
  "language_info": {
   "codemirror_mode": {
    "name": "ipython",
    "version": 3
   },
   "file_extension": ".py",
   "mimetype": "text/x-python",
   "name": "python",
   "nbconvert_exporter": "python",
   "pygments_lexer": "ipython3",
   "version": "3.7.9"
  }
 },
 "nbformat": 4,
 "nbformat_minor": 5
}
